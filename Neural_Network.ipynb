{
 "cells": [
  {
   "cell_type": "markdown",
   "id": "1fe25b6c",
   "metadata": {},
   "source": [
    "### Effects of Random Vs Zero Initilization on NN Learning\n",
    "In this experiment I have implemented a very basic FEED FORWARD NN with 2 possible scenerios:\n",
    "1) Where the weights are initialized to \"zero\"\n",
    "2) Where  the weights are initialized \"randomly\"\n",
    "3) After that I have trained the model for both scenerios.\n",
    "4) And lastly I have plotted the results to see how learning fails when initialzed to zero while the learning occurs effectively when initilized randomly.\n",
    "5) Generated a comparative analysis report at the end"
   ]
  },
  {
   "cell_type": "code",
   "execution_count": 1,
   "id": "746e55c2",
   "metadata": {},
   "outputs": [],
   "source": [
    "import numpy as npy                 #for calculations\n",
    "import matplotlib.pyplot as pplt     #for plotting"
   ]
  },
  {
   "cell_type": "markdown",
   "id": "af222bc4",
   "metadata": {},
   "source": [
    "# DATASET(XOR)"
   ]
  },
  {
   "cell_type": "code",
   "execution_count": 2,
   "id": "6bd4cf31",
   "metadata": {},
   "outputs": [],
   "source": [
    "#iNPUTS FOR XOR\n",
    "X= npy.array([[0,0],\n",
    "              [1,0],\n",
    "              [0,1],\n",
    "              [1,1]])  \n",
    "\n",
    "\n",
    "\n",
    "\n",
    "#labels/outputs for XOR          \n",
    "y=npy.array([[0],\n",
    "             [1],\n",
    "             [1],\n",
    "             [0]])                  \n"
   ]
  },
  {
   "cell_type": "markdown",
   "id": "f9182b81",
   "metadata": {},
   "source": [
    "# Setting my_seed "
   ]
  },
  {
   "cell_type": "code",
   "execution_count": 3,
   "id": "d1efe316",
   "metadata": {},
   "outputs": [],
   "source": [
    "my_seed=45\n",
    "npy.random.seed(my_seed)   #smooth performance good practice for problem statemnet"
   ]
  },
  {
   "cell_type": "markdown",
   "id": "25611916",
   "metadata": {},
   "source": [
    "# Sigmoid Function"
   ]
  },
  {
   "cell_type": "code",
   "execution_count": 4,
   "id": "f71a542d",
   "metadata": {},
   "outputs": [],
   "source": [
    "def Sigmoid_Activation_Func(a):\n",
    "    return 1 / (1 + npy.exp(-a))           "
   ]
  },
  {
   "cell_type": "markdown",
   "id": "c388b39e",
   "metadata": {},
   "source": [
    "# Sigmoid Derivative Function"
   ]
  },
  {
   "cell_type": "code",
   "execution_count": 5,
   "id": "512c23ec",
   "metadata": {},
   "outputs": [],
   "source": [
    "def Sigmoid_Derivative_Func(a):\n",
    "    return Sigmoid_Activation_Func(a) * (1-Sigmoid_Activation_Func(a)) "
   ]
  },
  {
   "cell_type": "markdown",
   "id": "3136801a",
   "metadata": {},
   "source": [
    "# LOSS  Function "
   ]
  },
  {
   "cell_type": "code",
   "execution_count": 6,
   "id": "4b2e3be3",
   "metadata": {},
   "outputs": [],
   "source": [
    "\n",
    "def loss_func(actual_label,target_label):\n",
    "    epsilon_value= 1e-8\n",
    "    #formula for entropy\n",
    "    cross_entropy_formula=actual_label * npy.log(target_label + epsilon_value) + \\\n",
    "          (1 - actual_label) * npy.log(1 - target_label + epsilon_value)\n",
    "    #mean of entropy\n",
    "    mean_loss=-npy.mean(cross_entropy_formula)\n",
    "    return mean_loss\n",
    "    "
   ]
  },
  {
   "cell_type": "markdown",
   "id": "74ce22c5",
   "metadata": {},
   "source": [
    "# AccuraCy Fuction"
   ]
  },
  {
   "cell_type": "code",
   "execution_count": 7,
   "id": "958b1900",
   "metadata": {},
   "outputs": [],
   "source": [
    "def accuracy_func(actual_label, target_label):\n",
    "    #convert the probabilities to 0 or 1\n",
    "    predictions=target_label >= 0.5\n",
    "    #accuarcy measure\n",
    "    accuracy=npy.mean(predictions==actual_label)\n",
    "    return accuracy"
   ]
  },
  {
   "cell_type": "markdown",
   "id": "12067b53",
   "metadata": {},
   "source": [
    "# Feedforward Neural Network\n"
   ]
  },
  {
   "cell_type": "code",
   "execution_count": 8,
   "id": "df0a8e97",
   "metadata": {},
   "outputs": [],
   "source": [
    "class FeedForward_NN:\n",
    "    def __init__(self, input_neurons, hidden_neurons, output_neurons, init_method):\n",
    "\n",
    "        #CASE 1 : INITIALIZE ALL TO 0\n",
    "        # doesn't learn anything\n",
    "\n",
    "        if init_method == \"zero\":\n",
    "            self.W1 = npy.zeros((input_neurons, hidden_neurons))\n",
    "            self.B1 = npy.zeros((1, hidden_neurons))\n",
    "            self.W2 = npy.zeros((hidden_neurons, output_neurons))\n",
    "            self.B2 = npy.zeros((1, output_neurons))\n",
    "\n",
    "        #CASE 2: INITIALIZE RANDOMLY\n",
    "        # Use -0.5 , 0.5 from problem statement by teacher for uniform distribution\n",
    "\n",
    "        elif init_method == \"random\":\n",
    "            # Random initialization: values between -0.5 and 0.5 (small numbers helps uniformity)\n",
    "\n",
    "            self.W1 = npy.random.uniform(-0.5, 0.5, (input_neurons, hidden_neurons))\n",
    "            self.B1 = npy.random.uniform(-0.5, 0.5, (1, hidden_neurons))\n",
    "            self.W2 = npy.random.uniform(-0.5, 0.5, (hidden_neurons, output_neurons))\n",
    "            self.B2 = npy.random.uniform(-0.5, 0.5, (1, output_neurons))\n",
    "        else:\n",
    "            raise ValueError(\"INITIALIZATION FAILED. Choose like 'zero' or 'random' \")\n",
    "        \n",
    "\n",
    "\n",
    "\n",
    "        # FOWARED PROPAGATION\n",
    "\n",
    "    def Forward_Prop(self, X):\n",
    "        self.Z1 = npy.dot(X, self.W1) + self.B1\n",
    "        self.A1 = Sigmoid_Activation_Func(self.Z1)\n",
    "\n",
    "        self.Z2 = npy.dot(self.A1, self.W2) + self.B2\n",
    "        self.A2 = Sigmoid_Activation_Func(self.Z2)\n",
    "\n",
    "\n",
    "        return self.A2\n",
    "    \n",
    "            \n",
    "        #BACKWARD PROPAGATION\n",
    "\n",
    "    def Back_Prop(self, X, y, learning_rate):\n",
    "        # Step 1: Error at output\n",
    "        error_output = self.A2 - y\n",
    "\n",
    "        # Step 2: Gradients for output layer\n",
    "        dZ2 = error_output * Sigmoid_Derivative_Func(self.Z2)\n",
    "\n",
    "        # Step 3: Error for hidden layer\n",
    "        d_hidden = npy.dot(dZ2, self.W2.T)\n",
    "        dZ1 = d_hidden * Sigmoid_Derivative_Func(self.Z1)\n",
    "\n",
    "        # Step 4: Compute gradients\n",
    "        dW2 = npy.dot(self.A1.T, dZ2)\n",
    "        dB2 = npy.sum(dZ2, axis=0, keepdims=True)\n",
    "\n",
    "        dW1 = npy.dot(X.T, dZ1)\n",
    "        dB1 = npy.sum(dZ1, axis=0, keepdims=True)\n",
    "\n",
    "        # Step 5: Update weights and biases\n",
    "        self.W1 -= learning_rate * dW1\n",
    "        self.B1 -= learning_rate * dB1\n",
    "        self.W2 -= learning_rate * dW2\n",
    "        self.B2 -= learning_rate * dB2\n",
    "\n",
    "        \n",
    "    \n"
   ]
  },
  {
   "cell_type": "markdown",
   "id": "abc0fec9",
   "metadata": {},
   "source": [
    "# TRAIN Function\n"
   ]
  },
  {
   "cell_type": "code",
   "execution_count": 9,
   "id": "5488fe8c",
   "metadata": {},
   "outputs": [],
   "source": [
    "def train_model(init_method, epochs=10000, learning_rate=0.1):\n",
    "    model = FeedForward_NN(input_neurons=2, hidden_neurons=4, output_neurons=1, init_method=init_method)\n",
    "    \n",
    "    losses=[]\n",
    "    accs = []\n",
    "\n",
    "    for epoch in range(epochs):\n",
    "        output = model.Forward_Prop(X)\n",
    "        loss = loss_func(y, output)\n",
    "        acc = accuracy_func(y, output)\n",
    "\n",
    "        model.Back_Prop(X, y, learning_rate)\n",
    "\n",
    "        losses.append(loss)\n",
    "        accs.append(acc)\n",
    "\n",
    "        if epoch % 1000 == 0:\n",
    "            print(f\"[{init_method.upper()} INIT] Epoch {epoch}: Loss = {loss:.4f}, Accuracy = {acc:.4f}\")\n",
    "\n",
    "    return losses, accs\n"
   ]
  },
  {
   "cell_type": "markdown",
   "id": "52c33bc1",
   "metadata": {},
   "source": [
    "### TRAINING FOR CASE 1 (init_method=\"zero\")"
   ]
  },
  {
   "cell_type": "code",
   "execution_count": 10,
   "id": "97fedf2e",
   "metadata": {},
   "outputs": [
    {
     "name": "stdout",
     "output_type": "stream",
     "text": [
      "[ZERO INIT] Epoch 0: Loss = 0.6931, Accuracy = 0.5000\n",
      "[ZERO INIT] Epoch 1000: Loss = 0.6931, Accuracy = 0.5000\n",
      "[ZERO INIT] Epoch 2000: Loss = 0.6931, Accuracy = 0.5000\n",
      "[ZERO INIT] Epoch 3000: Loss = 0.6931, Accuracy = 0.5000\n",
      "[ZERO INIT] Epoch 4000: Loss = 0.6931, Accuracy = 0.5000\n",
      "[ZERO INIT] Epoch 5000: Loss = 0.6931, Accuracy = 0.5000\n",
      "[ZERO INIT] Epoch 6000: Loss = 0.6931, Accuracy = 0.5000\n",
      "[ZERO INIT] Epoch 7000: Loss = 0.6931, Accuracy = 0.5000\n",
      "[ZERO INIT] Epoch 8000: Loss = 0.6931, Accuracy = 0.5000\n",
      "[ZERO INIT] Epoch 9000: Loss = 0.6931, Accuracy = 0.5000\n"
     ]
    }
   ],
   "source": [
    "loss_zero, acc_zero = train_model(init_method=\"zero\")"
   ]
  },
  {
   "cell_type": "markdown",
   "id": "3dad1280",
   "metadata": {},
   "source": [
    "### TRAINING FOR CASE 2 (init_method=\"random\")"
   ]
  },
  {
   "cell_type": "code",
   "execution_count": 11,
   "id": "388c4a84",
   "metadata": {},
   "outputs": [
    {
     "name": "stdout",
     "output_type": "stream",
     "text": [
      "[RANDOM INIT] Epoch 0: Loss = 0.7449, Accuracy = 0.5000\n",
      "[RANDOM INIT] Epoch 1000: Loss = 0.6929, Accuracy = 0.5000\n",
      "[RANDOM INIT] Epoch 2000: Loss = 0.6917, Accuracy = 0.5000\n",
      "[RANDOM INIT] Epoch 3000: Loss = 0.6786, Accuracy = 0.7500\n",
      "[RANDOM INIT] Epoch 4000: Loss = 0.5845, Accuracy = 0.7500\n",
      "[RANDOM INIT] Epoch 5000: Loss = 0.4039, Accuracy = 1.0000\n",
      "[RANDOM INIT] Epoch 6000: Loss = 0.1997, Accuracy = 1.0000\n",
      "[RANDOM INIT] Epoch 7000: Loss = 0.1228, Accuracy = 1.0000\n",
      "[RANDOM INIT] Epoch 8000: Loss = 0.0911, Accuracy = 1.0000\n",
      "[RANDOM INIT] Epoch 9000: Loss = 0.0741, Accuracy = 1.0000\n"
     ]
    }
   ],
   "source": [
    "loss_random, acc_random = train_model(init_method=\"random\")"
   ]
  },
  {
   "cell_type": "markdown",
   "id": "9a5bf0fc",
   "metadata": {},
   "source": [
    "### PLOT FOR LOSS VS EPOCHS"
   ]
  },
  {
   "cell_type": "code",
   "execution_count": 12,
   "id": "f67dc4b4",
   "metadata": {},
   "outputs": [
    {
     "data": {
      "text/plain": [
       "<matplotlib.legend.Legend at 0x1e5d1665ac0>"
      ]
     },
     "execution_count": 12,
     "metadata": {},
     "output_type": "execute_result"
    },
    {
     "data": {
      "image/png": "[encoded data removed]",
      "text/plain": [
       "<Figure size 1200x500 with 1 Axes>"
      ]
     },
     "metadata": {},
     "output_type": "display_data"
    }
   ],
   "source": [
    "epochs = range(len(loss_zero))\n",
    "\n",
    "pplt.figure(figsize=(12,5))\n",
    "\n",
    "# Loss Plot\n",
    "pplt.subplot(1, 2, 1)\n",
    "pplt.plot(epochs, loss_zero, label=\"Zero Init\")\n",
    "pplt.plot(epochs, loss_random, label=\"Random Init\")\n",
    "pplt.title(\"Loss vs Epochs\")\n",
    "pplt.xlabel(\"Epochs\")\n",
    "pplt.ylabel(\"Loss\")\n",
    "pplt.legend()"
   ]
  },
  {
   "cell_type": "markdown",
   "id": "f0207cd4",
   "metadata": {},
   "source": [
    "### PLOT FOR ACCURACY VS EPOCH "
   ]
  },
  {
   "cell_type": "code",
   "execution_count": 13,
   "id": "e79a41fd",
   "metadata": {},
   "outputs": [
    {
     "data": {
      "image/png": "[encoded data removed]",
      "text/plain": [
       "<Figure size 1200x500 with 1 Axes>"
      ]
     },
     "metadata": {},
     "output_type": "display_data"
    }
   ],
   "source": [
    "epochs = range(len(loss_zero))\n",
    "\n",
    "pplt.figure(figsize=(12,5))\n",
    "\n",
    "# Accuracy Plot\n",
    "pplt.subplot(1, 2, 2)\n",
    "pplt.plot(epochs, acc_zero, label=\"Zero Init\")\n",
    "pplt.plot(epochs, acc_random, label=\"Random Init\")\n",
    "pplt.title(\"Accuracy vs Epochs\")\n",
    "pplt.xlabel(\"Epochs\")\n",
    "pplt.ylabel(\"Accuracy\")\n",
    "pplt.legend()\n",
    "\n",
    "pplt.tight_layout()\n",
    "pplt.show()"
   ]
  },
  {
   "cell_type": "markdown",
   "id": "1b94479a",
   "metadata": {},
   "source": [
    "## SHORT COMPARATIVE ANALYSIS"
   ]
  },
  {
   "cell_type": "markdown",
   "id": "c596781a",
   "metadata": {},
   "source": [
    "\n",
    "\n",
    " Clearly from the plotting we can see the CASE 2 where we initialized to \"RANDOM\" has converged much faster and reached an accuracy of around 100 % while if we take a look at the plot for CASE 1 , where we initialized to \"ZERO\", it hasn't converged at all.Also when we trained for both CASES, CASE 2 is the clear winner which reached an accuracy close to 100 i.e 0.75 at epoch 4000 while as soon as it reached the epoch 5000 it acheicved an accuracy of 1.00 which is a 100%.\n",
    "\n",
    " When we initialize the feedforward NN to zero , no symmetery is broken at all, the output from all neurons in a layer is same,the grAdient for all neurons during backward propagation is same,there is no weights updation at all and there is no diversity in learning WHICH DEFEATS THE OVERALL MOTIVE OF HAVING MULTIPLE NUERONS & THE MODEL DOESN'T LEARN ANYTHING AT ALL.\n",
    " While on  the other hand in CASE 2, when we initialize the weights randomly,what really happens is that THE SYMMETERY GETS BROKEN, the output of all neurons of the same layer varies now,there is a gradient convergence for all neurons based on what weight was initialized to them randomly,CLEAR weight updation occurs and MODEL IS ABLE TO EFFECTIVELY LEARN which is the primary motive or use of models in real life.\n",
    "\n",
    "\n",
    "\n",
    "\n",
    "\n"
   ]
  }
 ],
 "metadata": {
  "kernelspec": {
   "display_name": "Python (env)",
   "language": "python",
   "name": "env"
  },
  "language_info": {
   "codemirror_mode": {
    "name": "ipython",
    "version": 3
   },
   "file_extension": ".py",
   "mimetype": "text/x-python",
   "name": "python",
   "nbconvert_exporter": "python",
   "pygments_lexer": "ipython3",
   "version": "3.12.0"
  }
 },
 "nbformat": 4,
 "nbformat_minor": 5
}
